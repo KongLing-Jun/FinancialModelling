{
 "cells": [
  {
   "cell_type": "code",
   "execution_count": null,
   "id": "initial_id",
   "metadata": {
    "collapsed": true
   },
   "outputs": [],
   "source": [
    "\n",
    "def init(context):\n",
    "    #品种列表 (每次使用之前都可以sorted一下)\n",
    "    g.symbol_list = sorted(\n",
    "        ['000028.SZ','000049.SZ','000069.SZ','000513.SZ','000636.SZ','000651.SZ',\n",
    "         '000921.SZ','001914.SZ','002027.SZ','002035.SZ','002060.SZ','002138.SZ',\n",
    "         '002152.SZ','002233.SZ','002303.SZ','002352.SZ','002449.SZ','002461.SZ',\n",
    "         '002475.SZ','002511.SZ','300014.SZ','300115.SZ','600048.SH','600183.SH',\n",
    "         '600323.SH','600325.SH','600332.SH','600383.SH','600872.SH','601318.SH'\n",
    "         ]\n",
    "    )\n",
    "    #下跌幅度权重\n",
    "    g.weightOfFell = 1\n",
    "    \n"
   ]
  }
 ],
 "metadata": {
  "kernelspec": {
   "display_name": "Python 3",
   "language": "python",
   "name": "python3"
  },
  "language_info": {
   "codemirror_mode": {
    "name": "ipython",
    "version": 2
   },
   "file_extension": ".py",
   "mimetype": "text/x-python",
   "name": "python",
   "nbconvert_exporter": "python",
   "pygments_lexer": "ipython2",
   "version": "2.7.6"
  }
 },
 "nbformat": 4,
 "nbformat_minor": 5
}
