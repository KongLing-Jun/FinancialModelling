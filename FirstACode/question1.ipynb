{
 "cells": [
  {
   "cell_type": "code",
   "execution_count": null,
   "id": "initial_id",
   "metadata": {
    "collapsed": true
   },
   "outputs": [],
   "source": [
    "#1.工具包导入\n",
    "from atrader import *\n",
    "import numpy as np\n",
    "\n",
    "#2.初始化函数\n",
    "# context 上下文对象，包含很多系统生成的属性和方法\n",
    "def init(context):\n",
    "    #注册数据 (注册日频行情数据)\n",
    "    reg_kdata('day.1') \n",
    "    #回测细节设置 (初始化设置账户总资金)\n",
    "    set_backtest(inital_cash = 1e8, stock_cost_fee = 2.5) \n",
    "    #定义全局变量的参数\n",
    "    context.win = 8    #计算所需总数据长度\n",
    "    context.Then = len(context.target_list) #标的数量\n",
    "    context.a = []  #总资产数据\n",
    "    \n",
    "#3.策略运行逻辑函数\n",
    "def on_data(context):\n",
    "    #获取注册数据\n",
    "    data = get_reg_kdata(reg_idx=context.reg_kdata[0],\n",
    "                         length=context.win,\n",
    "                         fill_up=True,\n",
    "                         df=True) #获取所有标的K线行情数据\n",
    "    if data['close'].isna().any():\n",
    "        return  #行情数据若存在nan值，则跳过\n",
    "    close = data.close.values.reshape(-1,context.win).astype(float) #获取收盘价，转化为ndarray 类型的二维数组\n",
    "    open = data.open.values.reshape(-1,context.win).astype(float)\n",
    "    #仓位数据查询\n",
    "    \n",
    "    \n",
    "    \n",
    "    "
   ]
  }
 ],
 "metadata": {
  "kernelspec": {
   "display_name": "Python 3",
   "language": "python",
   "name": "python3"
  },
  "language_info": {
   "codemirror_mode": {
    "name": "ipython",
    "version": 2
   },
   "file_extension": ".py",
   "mimetype": "text/x-python",
   "name": "python",
   "nbconvert_exporter": "python",
   "pygments_lexer": "ipython2",
   "version": "2.7.6"
  }
 },
 "nbformat": 4,
 "nbformat_minor": 5
}
